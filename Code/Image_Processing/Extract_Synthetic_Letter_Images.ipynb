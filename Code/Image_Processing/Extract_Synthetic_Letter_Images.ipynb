{
 "cells": [
  {
   "cell_type": "markdown",
   "id": "786cc6eb",
   "metadata": {},
   "source": [
    "# Extracting Synthetic Letter Images"
   ]
  },
  {
   "cell_type": "code",
   "execution_count": 3,
   "id": "9ee58e18",
   "metadata": {},
   "outputs": [],
   "source": [
    "from PIL import Image, ImageDraw, ImageFont\n",
    "\n",
    "import os"
   ]
  },
  {
   "cell_type": "code",
   "execution_count": 4,
   "id": "05e5ff4c",
   "metadata": {},
   "outputs": [],
   "source": [
    "def extract_letters(ttf_path, output_folder, image_size, font_size):\n",
    "    \"\"\"\n",
    "    Extracts letters from a TrueType Font (TTF) file and saves them as images.\n",
    "\n",
    "    Parameters:\n",
    "    - ttf_path (str): Path to the TTF file.\n",
    "    - output_folder (str): Path to the folder where images will be saved.\n",
    "    - image_size (tuple): Size of the output images (width, height).\n",
    "    - font_size (int): Size of the letter.\n",
    "    \n",
    "    Example usage:\n",
    "        extract_letters(\"path/to/font.ttf\", \"output/folder\", (128, 128), 100)\n",
    "    \"\"\"\n",
    "    # Create a directory to save the output image\n",
    "    os.makedirs(output_folder, exist_ok=True)\n",
    "\n",
    "    # Load the font with PIL\n",
    "    font = ImageFont.truetype(ttf_path, font_size)\n",
    "\n",
    "    # Define the character to render\n",
    "    characters = \"abcdefghijklmnopqrstuvwxyz\"\n",
    "\n",
    "    for char in characters:\n",
    "        image = Image.new(\"L\", image_size, \"white\")\n",
    "        draw = ImageDraw.Draw(image)\n",
    "\n",
    "        # Calculate the position to center the character\n",
    "        text_width, text_height = draw.textsize(char, font=font)\n",
    "        position = ((image_size[0] - text_width) // 2, (image_size[1] - text_height) // 2)\n",
    "\n",
    "        # Draw the character\n",
    "        draw.text(position, char, font=font, fill=\"black\")\n",
    "\n",
    "        image_path = os.path.join(f\"{output_folder}/{char}.png\")\n",
    "        \n",
    "        image.save(image_path)"
   ]
  },
  {
   "cell_type": "code",
   "execution_count": 8,
   "id": "5e59f608",
   "metadata": {},
   "outputs": [],
   "source": [
    "if __name__ == \"__main__\":\n",
    "    # Define parameters\n",
    "    ttf_path = \"../../Data/ARIAL.TTF\"\n",
    "    output_folder = \"../../Data/output_images/arial_images_before_processing\"  \n",
    "    image_size = (128, 128) \n",
    "    font_size = 100  \n",
    "\n",
    "    # Run the extraction\n",
    "    extract_letters(ttf_path, output_folder, image_size, font_size)"
   ]
  }
 ],
 "metadata": {
  "kernelspec": {
   "display_name": "Python 3 (ipykernel)",
   "language": "python",
   "name": "python3"
  },
  "language_info": {
   "codemirror_mode": {
    "name": "ipython",
    "version": 3
   },
   "file_extension": ".py",
   "mimetype": "text/x-python",
   "name": "python",
   "nbconvert_exporter": "python",
   "pygments_lexer": "ipython3",
   "version": "3.9.12"
  }
 },
 "nbformat": 4,
 "nbformat_minor": 5
}
