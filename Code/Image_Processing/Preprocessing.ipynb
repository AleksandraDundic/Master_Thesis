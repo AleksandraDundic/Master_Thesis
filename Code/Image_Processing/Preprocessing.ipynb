{
 "cells": [
  {
   "cell_type": "markdown",
   "id": "c19563f4",
   "metadata": {},
   "source": [
    "# Creating Preprocessed Images"
   ]
  },
  {
   "cell_type": "code",
   "execution_count": 1,
   "id": "cc59221e",
   "metadata": {},
   "outputs": [],
   "source": [
    "import numpy as np\n",
    "import os\n",
    "import sys\n",
    "sys.path.append('../')\n",
    "import Image_Preprocessing as IP\n",
    "\n",
    "from PIL import Image"
   ]
  },
  {
   "cell_type": "code",
   "execution_count": 2,
   "id": "6f473248",
   "metadata": {},
   "outputs": [],
   "source": [
    "def save_preprocessed_images(input_folder_path, target_folder_path):\n",
    "    images_list = [im_str for im_str in os.listdir(input_folder_path) if im_str!='.DS_Store']\n",
    "    \n",
    "    for im_str in images_list:\n",
    "        im_path = os.path.join(input_folder_path, im_str)\n",
    "        im = Image.open(im_path)\n",
    "        \n",
    "        new_im = IP.image_preprocessing(im)\n",
    "        \n",
    "        os.makedirs(target_folder_path, exist_ok=True)\n",
    "        new_im_path = os.path.join(target_folder_path, im_str)\n",
    "        \n",
    "        new_im.save(new_im_path)"
   ]
  },
  {
   "cell_type": "code",
   "execution_count": 3,
   "id": "aea31b8a",
   "metadata": {},
   "outputs": [],
   "source": [
    "if __name__ == \"__main__\":\n",
    "    arial_input = '../../Data/output_images/arial_images_before_processing'\n",
    "    arial_output = '../../Data/output_images/arial_images_after_processing'\n",
    "    save_preprocessed_images(arial_input, arial_output)\n",
    "    \n",
    "    for char in 'abcdefghijklmnopqrstuvwxyz':\n",
    "        emnist_train_input = f'../../Data/EMNIST/emnist_train/{char}'\n",
    "        emnist_train_output = f'../../Data/output_images/emnist_after_processing/emnist_train/{char}'\n",
    "        save_preprocessed_images(emnist_train_input, emnist_train_output)\n",
    "        \n",
    "        emnist_test_input = f'../../Data/EMNIST/emnist_test/{char}'\n",
    "        emnist_test_output = f'../../Data/output_images/emnist_after_processing/emnist_test/{char}'\n",
    "        save_preprocessed_images(emnist_test_input, emnist_test_output)\n",
    "        \n",
    "        emnist_valid_input = f'../../Data/EMNIST/emnist_valid/{char}'\n",
    "        emnist_valid_output = f'../../Data/output_images/emnist_after_processing/emnist_valid/{char}'\n",
    "        save_preprocessed_images(emnist_valid_input, emnist_valid_output)"
   ]
  }
 ],
 "metadata": {
  "kernelspec": {
   "display_name": "Python 3 (ipykernel)",
   "language": "python",
   "name": "python3"
  },
  "language_info": {
   "codemirror_mode": {
    "name": "ipython",
    "version": 3
   },
   "file_extension": ".py",
   "mimetype": "text/x-python",
   "name": "python",
   "nbconvert_exporter": "python",
   "pygments_lexer": "ipython3",
   "version": "3.9.12"
  }
 },
 "nbformat": 4,
 "nbformat_minor": 5
}
